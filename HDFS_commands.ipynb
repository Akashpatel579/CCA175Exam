{
 "cells": [
  {
   "cell_type": "code",
   "execution_count": null,
   "metadata": {},
   "outputs": [],
   "source": [
    "# HDFS commands : 101"
   ]
  },
  {
   "cell_type": "markdown",
   "metadata": {},
   "source": [
    "### ls commnad - This commnad is used to get list of files for the given directory path \n",
    "\n",
    "#### hdfs dfs -ls path"
   ]
  },
  {
   "cell_type": "code",
   "execution_count": 3,
   "metadata": {},
   "outputs": [
    {
     "name": "stdout",
     "output_type": "stream",
     "text": [
      "Found 20 items\n",
      "drwx------   - akashpatel hdfs          0 2020-04-18 02:00 /user/akashpatel/.Trash\n",
      "drwxr-xr-x   - akashpatel hdfs          0 2020-05-03 04:45 /user/akashpatel/.sparkStaging\n",
      "drwx------   - akashpatel hdfs          0 2020-04-11 23:14 /user/akashpatel/.staging\n",
      "drwxr-xr-x   - akashpatel hdfs          0 2020-04-02 10:50 /user/akashpatel/airlines_all\n",
      "drwxr-xr-x   - akashpatel hdfs          0 2020-04-17 11:49 /user/akashpatel/avro_exercise\n",
      "drwxr-xr-x   - akashpatel hdfs          0 2020-03-04 09:55 /user/akashpatel/cards\n",
      "drwxr-xr-x   - akashpatel hdfs          0 2020-04-16 15:02 /user/akashpatel/dataset\n",
      "drwxr-xr-x   - akashpatel hdfs          0 2020-04-30 21:14 /user/akashpatel/exam_preparation\n",
      "drwxr-xr-x   - akashpatel hdfs          0 2020-04-17 15:36 /user/akashpatel/excercises\n",
      "drwxr-xr-x   - akashpatel hdfs          0 2020-04-17 15:22 /user/akashpatel/exercises\n",
      "-rw-r--r--   2 akashpatel hdfs      85492 2020-04-11 23:21 /user/akashpatel/json-serde-1.3.8-jar-with-dependencies.jar\n",
      "-rw-r--r--   2 akashpatel hdfs     139640 2020-04-11 22:54 /user/akashpatel/jsonserde.jar\n",
      "drwxr-xr-x   - akashpatel hdfs          0 2020-04-11 10:22 /user/akashpatel/nyse_data\n",
      "drwxr-xr-x   - akashpatel hdfs          0 2020-04-07 16:29 /user/akashpatel/project_demo\n",
      "drwxr-xr-x   - akashpatel hdfs          0 2020-04-10 23:33 /user/akashpatel/retail_db\n",
      "drwxr-xr-x   - akashpatel hdfs          0 2020-04-14 12:57 /user/akashpatel/top_10_businesses_per_city\n",
      "drwxr-xr-x   - akashpatel hdfs          0 2020-03-29 22:30 /user/akashpatel/top_10_businesses_review_count\n",
      "drwxr-xr-x   - akashpatel hdfs          0 2020-04-14 21:55 /user/akashpatel/top_3_useful_restaurant_reviews\n",
      "drwxr-xr-x   - akashpatel hdfs          0 2020-03-29 23:22 /user/akashpatel/top_3_useful_restaurant_reviews_without_compression\n",
      "drwxr-xr-x   - akashpatel hdfs          0 2020-03-16 11:07 /user/akashpatel/yelp\n"
     ]
    }
   ],
   "source": [
    "%%sh \n",
    "\n",
    "hdfs dfs -ls /user/akashpatel/"
   ]
  },
  {
   "cell_type": "markdown",
   "metadata": {},
   "source": [
    "### mkdir command - This command is used to create directory in HDFS\n",
    "\n",
    "hdfs dfs -mkdir path+name of a new create directory"
   ]
  },
  {
   "cell_type": "code",
   "execution_count": 5,
   "metadata": {},
   "outputs": [],
   "source": [
    "%%sh \n",
    "\n",
    "hdfs dfs -mkdir /user/akashpatel/hdfscommandexercises"
   ]
  },
  {
   "cell_type": "code",
   "execution_count": 7,
   "metadata": {},
   "outputs": [
    {
     "name": "stdout",
     "output_type": "stream",
     "text": [
      "Found 21 items\n",
      "drwx------   - akashpatel hdfs          0 2020-04-18 02:00 /user/akashpatel/.Trash\n",
      "drwxr-xr-x   - akashpatel hdfs          0 2020-05-03 04:45 /user/akashpatel/.sparkStaging\n",
      "drwx------   - akashpatel hdfs          0 2020-04-11 23:14 /user/akashpatel/.staging\n",
      "drwxr-xr-x   - akashpatel hdfs          0 2020-04-02 10:50 /user/akashpatel/airlines_all\n",
      "drwxr-xr-x   - akashpatel hdfs          0 2020-04-17 11:49 /user/akashpatel/avro_exercise\n",
      "drwxr-xr-x   - akashpatel hdfs          0 2020-03-04 09:55 /user/akashpatel/cards\n",
      "drwxr-xr-x   - akashpatel hdfs          0 2020-04-16 15:02 /user/akashpatel/dataset\n",
      "drwxr-xr-x   - akashpatel hdfs          0 2020-04-30 21:14 /user/akashpatel/exam_preparation\n",
      "drwxr-xr-x   - akashpatel hdfs          0 2020-04-17 15:36 /user/akashpatel/excercises\n",
      "drwxr-xr-x   - akashpatel hdfs          0 2020-04-17 15:22 /user/akashpatel/exercises\n",
      "drwxr-xr-x   - akashpatel hdfs          0 2020-05-11 09:34 /user/akashpatel/hdfscommandexercises\n",
      "-rw-r--r--   2 akashpatel hdfs      85492 2020-04-11 23:21 /user/akashpatel/json-serde-1.3.8-jar-with-dependencies.jar\n",
      "-rw-r--r--   2 akashpatel hdfs     139640 2020-04-11 22:54 /user/akashpatel/jsonserde.jar\n",
      "drwxr-xr-x   - akashpatel hdfs          0 2020-04-11 10:22 /user/akashpatel/nyse_data\n",
      "drwxr-xr-x   - akashpatel hdfs          0 2020-04-07 16:29 /user/akashpatel/project_demo\n",
      "drwxr-xr-x   - akashpatel hdfs          0 2020-04-10 23:33 /user/akashpatel/retail_db\n",
      "drwxr-xr-x   - akashpatel hdfs          0 2020-04-14 12:57 /user/akashpatel/top_10_businesses_per_city\n",
      "drwxr-xr-x   - akashpatel hdfs          0 2020-03-29 22:30 /user/akashpatel/top_10_businesses_review_count\n",
      "drwxr-xr-x   - akashpatel hdfs          0 2020-04-14 21:55 /user/akashpatel/top_3_useful_restaurant_reviews\n",
      "drwxr-xr-x   - akashpatel hdfs          0 2020-03-29 23:22 /user/akashpatel/top_3_useful_restaurant_reviews_without_compression\n",
      "drwxr-xr-x   - akashpatel hdfs          0 2020-03-16 11:07 /user/akashpatel/yelp\n"
     ]
    }
   ],
   "source": [
    "%%sh \n",
    "\n",
    "hdfs dfs -ls /user/akashpatel/"
   ]
  },
  {
   "cell_type": "markdown",
   "metadata": {},
   "source": [
    "### touchz command - This command will help us to create an empty file in HDFS\n",
    "\n",
    "#### hdfs dfs -touchz path+name of a new file"
   ]
  },
  {
   "cell_type": "code",
   "execution_count": 10,
   "metadata": {},
   "outputs": [],
   "source": [
    "%%sh \n",
    "\n",
    "hdfs dfs -touchz /user/akashpatel/hdfscommandexercises/myNewFile.txt"
   ]
  },
  {
   "cell_type": "code",
   "execution_count": 12,
   "metadata": {},
   "outputs": [
    {
     "name": "stdout",
     "output_type": "stream",
     "text": [
      "Found 1 items\n",
      "-rw-r--r--   2 akashpatel hdfs          0 2020-05-11 09:37 /user/akashpatel/hdfscommandexercises/myNewFile.txt\n"
     ]
    }
   ],
   "source": [
    "%%sh \n",
    "\n",
    "hdfs dfs -ls /user/akashpatel/hdfscommandexercises/"
   ]
  },
  {
   "cell_type": "markdown",
   "metadata": {},
   "source": [
    "### put | copyFromLocal  - both commands used to copy files from local to HDFS directories\n",
    "\n",
    "hdfs dfs -copyFromLocal source destination\n",
    "            OR \n",
    "hdfs dfs -put source destination"
   ]
  },
  {
   "cell_type": "code",
   "execution_count": 24,
   "metadata": {},
   "outputs": [],
   "source": [
    "%%sh \n",
    "\n",
    "hdfs dfs -copyFromLocal /home/akashpatel/akash/MyTextFile.txt /user/akashpatel/hdfscommandexercises/"
   ]
  },
  {
   "cell_type": "code",
   "execution_count": 32,
   "metadata": {},
   "outputs": [
    {
     "name": "stdout",
     "output_type": "stream",
     "text": [
      "Found 2 items\n",
      "-rw-r--r--   2 akashpatel hdfs         54 2020-05-11 09:52 /user/akashpatel/hdfscommandexercises/MyTextFile.txt\n",
      "-rw-r--r--   2 akashpatel hdfs          0 2020-05-11 09:37 /user/akashpatel/hdfscommandexercises/myNewFile.txt\n"
     ]
    }
   ],
   "source": [
    "%%sh \n",
    "\n",
    "hdfs dfs -ls /user/akashpatel/hdfscommandexercises/"
   ]
  },
  {
   "cell_type": "markdown",
   "metadata": {},
   "source": [
    "### cat command - It is used to read the content of the file"
   ]
  },
  {
   "cell_type": "code",
   "execution_count": 34,
   "metadata": {},
   "outputs": [
    {
     "name": "stdout",
     "output_type": "stream",
     "text": [
      "Hi, my name is Akash. \n",
      "Currenly, I'm living in Canada."
     ]
    }
   ],
   "source": [
    "%%sh \n",
    "\n",
    "hdfs dfs -cat /user/akashpatel/hdfscommandexercises/MyTextFile.txt"
   ]
  },
  {
   "cell_type": "markdown",
   "metadata": {},
   "source": [
    "### copyToLocal | get - Both commands used to get files from HDFS to local system\n",
    "\n",
    "hdfs dfs -get source destination"
   ]
  },
  {
   "cell_type": "code",
   "execution_count": 36,
   "metadata": {},
   "outputs": [],
   "source": [
    "%%sh \n",
    "\n",
    "hdfs dfs -get /user/akashpatel/hdfscommandexercises/myNewFile.txt /home/akashpatel/akash/getfiles/"
   ]
  },
  {
   "cell_type": "code",
   "execution_count": 38,
   "metadata": {},
   "outputs": [
    {
     "name": "stdout",
     "output_type": "stream",
     "text": [
      "myNewFile.txt\n"
     ]
    }
   ],
   "source": [
    "%%sh \n",
    "\n",
    "ls -ltr /home/akashpatel/akash/getfiles"
   ]
  },
  {
   "cell_type": "markdown",
   "metadata": {},
   "source": [
    "### moveFromLocal command - It used to move local files from HDFS "
   ]
  },
  {
   "cell_type": "code",
   "execution_count": 41,
   "metadata": {},
   "outputs": [],
   "source": [
    "%%sh \n",
    "\n",
    "\n",
    "hdfs dfs -moveFromLocal /home/akashpatel/akash/MyAnotherTextFile.txt /user/akashpatel/hdfscommandexercises/"
   ]
  },
  {
   "cell_type": "code",
   "execution_count": 42,
   "metadata": {},
   "outputs": [
    {
     "name": "stdout",
     "output_type": "stream",
     "text": [
      "Found 3 items\n",
      "-rw-r--r--   2 akashpatel hdfs         92 2020-05-11 10:13 /user/akashpatel/hdfscommandexercises/MyAnotherTextFile.txt\n",
      "-rw-r--r--   2 akashpatel hdfs         54 2020-05-11 09:52 /user/akashpatel/hdfscommandexercises/MyTextFile.txt\n",
      "-rw-r--r--   2 akashpatel hdfs          0 2020-05-11 09:37 /user/akashpatel/hdfscommandexercises/myNewFile.txt\n"
     ]
    }
   ],
   "source": [
    "%%sh \n",
    "\n",
    "hdfs dfs -ls /user/akashpatel/hdfscommandexercises/"
   ]
  },
  {
   "cell_type": "markdown",
   "metadata": {},
   "source": [
    "### cp command - This command is used to copy file from one location to other in HDFS"
   ]
  },
  {
   "cell_type": "code",
   "execution_count": 81,
   "metadata": {},
   "outputs": [],
   "source": [
    "%%sh \n",
    "\n",
    "hdfs dfs -cp /user/akashpatel/hdfscommandexercises/MyTextFile.txt /user/akashpatel/hdfscommandexercises/MyTextFile_copied.txt"
   ]
  },
  {
   "cell_type": "code",
   "execution_count": 82,
   "metadata": {},
   "outputs": [
    {
     "name": "stdout",
     "output_type": "stream",
     "text": [
      "Found 5 items\n",
      "-rw-r--r--   2 akashpatel hdfs         92 2020-05-11 10:13 /user/akashpatel/hdfscommandexercises/MyAnotherTextFile.txt\n",
      "-rw-r--r--   6 akashpatel hdfs         54 2020-05-11 09:52 /user/akashpatel/hdfscommandexercises/MyTextFile.txt\n",
      "-rw-r--r--   2 akashpatel hdfs         54 2020-05-11 14:26 /user/akashpatel/hdfscommandexercises/MyTextFile_copied.txt\n",
      "drwxr-xr-x   - akashpatel hdfs          0 2020-05-11 14:26 /user/akashpatel/hdfscommandexercises/moveexample\n",
      "-rw-r--r--   2 akashpatel hdfs          0 2020-05-11 09:37 /user/akashpatel/hdfscommandexercises/myNewFile.txt\n"
     ]
    }
   ],
   "source": [
    "%%sh \n",
    "\n",
    "hdfs dfs -ls /user/akashpatel/hdfscommandexercises/"
   ]
  },
  {
   "cell_type": "markdown",
   "metadata": {},
   "source": [
    "### mv command - This command is used to move file from one location to other (similar to cut-paste) in HDFS"
   ]
  },
  {
   "cell_type": "code",
   "execution_count": 83,
   "metadata": {
    "collapsed": true,
    "jupyter": {
     "outputs_hidden": true
    }
   },
   "outputs": [
    {
     "name": "stderr",
     "output_type": "stream",
     "text": [
      "mkdir: `/user/akashpatel/hdfscommandexercises/moveexample': File exists\n"
     ]
    },
    {
     "ename": "CalledProcessError",
     "evalue": "Command 'b'hdfs dfs -mkdir /user/akashpatel/hdfscommandexercises/moveexample/\\n'' returned non-zero exit status 1.",
     "output_type": "error",
     "traceback": [
      "\u001b[0;31m---------------------------------------------------------------------------\u001b[0m",
      "\u001b[0;31mCalledProcessError\u001b[0m                        Traceback (most recent call last)",
      "\u001b[0;32m<ipython-input-83-1d943563dd0e>\u001b[0m in \u001b[0;36m<module>\u001b[0;34m\u001b[0m\n\u001b[0;32m----> 1\u001b[0;31m \u001b[0mget_ipython\u001b[0m\u001b[0;34m(\u001b[0m\u001b[0;34m)\u001b[0m\u001b[0;34m.\u001b[0m\u001b[0mrun_cell_magic\u001b[0m\u001b[0;34m(\u001b[0m\u001b[0;34m'sh'\u001b[0m\u001b[0;34m,\u001b[0m \u001b[0;34m''\u001b[0m\u001b[0;34m,\u001b[0m \u001b[0;34m'hdfs dfs -mkdir /user/akashpatel/hdfscommandexercises/moveexample/\\n'\u001b[0m\u001b[0;34m)\u001b[0m\u001b[0;34m\u001b[0m\u001b[0;34m\u001b[0m\u001b[0m\n\u001b[0m",
      "\u001b[0;32m/usr/local/lib/python3.6/site-packages/IPython/core/interactiveshell.py\u001b[0m in \u001b[0;36mrun_cell_magic\u001b[0;34m(self, magic_name, line, cell)\u001b[0m\n\u001b[1;32m   2360\u001b[0m             \u001b[0;32mwith\u001b[0m \u001b[0mself\u001b[0m\u001b[0;34m.\u001b[0m\u001b[0mbuiltin_trap\u001b[0m\u001b[0;34m:\u001b[0m\u001b[0;34m\u001b[0m\u001b[0;34m\u001b[0m\u001b[0m\n\u001b[1;32m   2361\u001b[0m                 \u001b[0margs\u001b[0m \u001b[0;34m=\u001b[0m \u001b[0;34m(\u001b[0m\u001b[0mmagic_arg_s\u001b[0m\u001b[0;34m,\u001b[0m \u001b[0mcell\u001b[0m\u001b[0;34m)\u001b[0m\u001b[0;34m\u001b[0m\u001b[0;34m\u001b[0m\u001b[0m\n\u001b[0;32m-> 2362\u001b[0;31m                 \u001b[0mresult\u001b[0m \u001b[0;34m=\u001b[0m \u001b[0mfn\u001b[0m\u001b[0;34m(\u001b[0m\u001b[0;34m*\u001b[0m\u001b[0margs\u001b[0m\u001b[0;34m,\u001b[0m \u001b[0;34m**\u001b[0m\u001b[0mkwargs\u001b[0m\u001b[0;34m)\u001b[0m\u001b[0;34m\u001b[0m\u001b[0;34m\u001b[0m\u001b[0m\n\u001b[0m\u001b[1;32m   2363\u001b[0m             \u001b[0;32mreturn\u001b[0m \u001b[0mresult\u001b[0m\u001b[0;34m\u001b[0m\u001b[0;34m\u001b[0m\u001b[0m\n\u001b[1;32m   2364\u001b[0m \u001b[0;34m\u001b[0m\u001b[0m\n",
      "\u001b[0;32m/usr/local/lib/python3.6/site-packages/IPython/core/magics/script.py\u001b[0m in \u001b[0;36mnamed_script_magic\u001b[0;34m(line, cell)\u001b[0m\n\u001b[1;32m    140\u001b[0m             \u001b[0;32melse\u001b[0m\u001b[0;34m:\u001b[0m\u001b[0;34m\u001b[0m\u001b[0;34m\u001b[0m\u001b[0m\n\u001b[1;32m    141\u001b[0m                 \u001b[0mline\u001b[0m \u001b[0;34m=\u001b[0m \u001b[0mscript\u001b[0m\u001b[0;34m\u001b[0m\u001b[0;34m\u001b[0m\u001b[0m\n\u001b[0;32m--> 142\u001b[0;31m             \u001b[0;32mreturn\u001b[0m \u001b[0mself\u001b[0m\u001b[0;34m.\u001b[0m\u001b[0mshebang\u001b[0m\u001b[0;34m(\u001b[0m\u001b[0mline\u001b[0m\u001b[0;34m,\u001b[0m \u001b[0mcell\u001b[0m\u001b[0;34m)\u001b[0m\u001b[0;34m\u001b[0m\u001b[0;34m\u001b[0m\u001b[0m\n\u001b[0m\u001b[1;32m    143\u001b[0m \u001b[0;34m\u001b[0m\u001b[0m\n\u001b[1;32m    144\u001b[0m         \u001b[0;31m# write a basic docstring:\u001b[0m\u001b[0;34m\u001b[0m\u001b[0;34m\u001b[0m\u001b[0;34m\u001b[0m\u001b[0m\n",
      "\u001b[0;32m<decorator-gen-110>\u001b[0m in \u001b[0;36mshebang\u001b[0;34m(self, line, cell)\u001b[0m\n",
      "\u001b[0;32m/usr/local/lib/python3.6/site-packages/IPython/core/magic.py\u001b[0m in \u001b[0;36m<lambda>\u001b[0;34m(f, *a, **k)\u001b[0m\n\u001b[1;32m    185\u001b[0m     \u001b[0;31m# but it's overkill for just that one bit of state.\u001b[0m\u001b[0;34m\u001b[0m\u001b[0;34m\u001b[0m\u001b[0;34m\u001b[0m\u001b[0m\n\u001b[1;32m    186\u001b[0m     \u001b[0;32mdef\u001b[0m \u001b[0mmagic_deco\u001b[0m\u001b[0;34m(\u001b[0m\u001b[0marg\u001b[0m\u001b[0;34m)\u001b[0m\u001b[0;34m:\u001b[0m\u001b[0;34m\u001b[0m\u001b[0;34m\u001b[0m\u001b[0m\n\u001b[0;32m--> 187\u001b[0;31m         \u001b[0mcall\u001b[0m \u001b[0;34m=\u001b[0m \u001b[0;32mlambda\u001b[0m \u001b[0mf\u001b[0m\u001b[0;34m,\u001b[0m \u001b[0;34m*\u001b[0m\u001b[0ma\u001b[0m\u001b[0;34m,\u001b[0m \u001b[0;34m**\u001b[0m\u001b[0mk\u001b[0m\u001b[0;34m:\u001b[0m \u001b[0mf\u001b[0m\u001b[0;34m(\u001b[0m\u001b[0;34m*\u001b[0m\u001b[0ma\u001b[0m\u001b[0;34m,\u001b[0m \u001b[0;34m**\u001b[0m\u001b[0mk\u001b[0m\u001b[0;34m)\u001b[0m\u001b[0;34m\u001b[0m\u001b[0;34m\u001b[0m\u001b[0m\n\u001b[0m\u001b[1;32m    188\u001b[0m \u001b[0;34m\u001b[0m\u001b[0m\n\u001b[1;32m    189\u001b[0m         \u001b[0;32mif\u001b[0m \u001b[0mcallable\u001b[0m\u001b[0;34m(\u001b[0m\u001b[0marg\u001b[0m\u001b[0;34m)\u001b[0m\u001b[0;34m:\u001b[0m\u001b[0;34m\u001b[0m\u001b[0;34m\u001b[0m\u001b[0m\n",
      "\u001b[0;32m/usr/local/lib/python3.6/site-packages/IPython/core/magics/script.py\u001b[0m in \u001b[0;36mshebang\u001b[0;34m(self, line, cell)\u001b[0m\n\u001b[1;32m    243\u001b[0m             \u001b[0msys\u001b[0m\u001b[0;34m.\u001b[0m\u001b[0mstderr\u001b[0m\u001b[0;34m.\u001b[0m\u001b[0mflush\u001b[0m\u001b[0;34m(\u001b[0m\u001b[0;34m)\u001b[0m\u001b[0;34m\u001b[0m\u001b[0;34m\u001b[0m\u001b[0m\n\u001b[1;32m    244\u001b[0m         \u001b[0;32mif\u001b[0m \u001b[0margs\u001b[0m\u001b[0;34m.\u001b[0m\u001b[0mraise_error\u001b[0m \u001b[0;32mand\u001b[0m \u001b[0mp\u001b[0m\u001b[0;34m.\u001b[0m\u001b[0mreturncode\u001b[0m\u001b[0;34m!=\u001b[0m\u001b[0;36m0\u001b[0m\u001b[0;34m:\u001b[0m\u001b[0;34m\u001b[0m\u001b[0;34m\u001b[0m\u001b[0m\n\u001b[0;32m--> 245\u001b[0;31m             \u001b[0;32mraise\u001b[0m \u001b[0mCalledProcessError\u001b[0m\u001b[0;34m(\u001b[0m\u001b[0mp\u001b[0m\u001b[0;34m.\u001b[0m\u001b[0mreturncode\u001b[0m\u001b[0;34m,\u001b[0m \u001b[0mcell\u001b[0m\u001b[0;34m,\u001b[0m \u001b[0moutput\u001b[0m\u001b[0;34m=\u001b[0m\u001b[0mout\u001b[0m\u001b[0;34m,\u001b[0m \u001b[0mstderr\u001b[0m\u001b[0;34m=\u001b[0m\u001b[0merr\u001b[0m\u001b[0;34m)\u001b[0m\u001b[0;34m\u001b[0m\u001b[0;34m\u001b[0m\u001b[0m\n\u001b[0m\u001b[1;32m    246\u001b[0m \u001b[0;34m\u001b[0m\u001b[0m\n\u001b[1;32m    247\u001b[0m     \u001b[0;32mdef\u001b[0m \u001b[0m_run_script\u001b[0m\u001b[0;34m(\u001b[0m\u001b[0mself\u001b[0m\u001b[0;34m,\u001b[0m \u001b[0mp\u001b[0m\u001b[0;34m,\u001b[0m \u001b[0mcell\u001b[0m\u001b[0;34m,\u001b[0m \u001b[0mto_close\u001b[0m\u001b[0;34m)\u001b[0m\u001b[0;34m:\u001b[0m\u001b[0;34m\u001b[0m\u001b[0;34m\u001b[0m\u001b[0m\n",
      "\u001b[0;31mCalledProcessError\u001b[0m: Command 'b'hdfs dfs -mkdir /user/akashpatel/hdfscommandexercises/moveexample/\\n'' returned non-zero exit status 1."
     ]
    }
   ],
   "source": [
    "%%sh\n",
    "hdfs dfs -mkdir /user/akashpatel/hdfscommandexercises/moveexample/"
   ]
  },
  {
   "cell_type": "code",
   "execution_count": 84,
   "metadata": {},
   "outputs": [],
   "source": [
    "%%sh \n",
    "hdfs dfs -mv /user/akashpatel/hdfscommandexercises/MyTextFile_copied.txt  /user/akashpatel/hdfscommandexercises/moveexample/"
   ]
  },
  {
   "cell_type": "code",
   "execution_count": 85,
   "metadata": {},
   "outputs": [
    {
     "name": "stdout",
     "output_type": "stream",
     "text": [
      "Found 1 items\n",
      "-rw-r--r--   2 akashpatel hdfs         54 2020-05-11 14:26 /user/akashpatel/hdfscommandexercises/moveexample/MyTextFile_copied.txt\n"
     ]
    }
   ],
   "source": [
    "%%sh \n",
    "\n",
    "hdfs dfs -ls /user/akashpatel/hdfscommandexercises/moveexample/"
   ]
  },
  {
   "cell_type": "markdown",
   "metadata": {},
   "source": [
    "### rmr command - This command is used to recursively deleting the files from directory"
   ]
  },
  {
   "cell_type": "code",
   "execution_count": 60,
   "metadata": {},
   "outputs": [],
   "source": [
    "%%sh \n",
    "\n",
    "hdfs dfs -ls /user/akashpatel/hdfscommandexercises/moveexample"
   ]
  },
  {
   "cell_type": "code",
   "execution_count": 61,
   "metadata": {},
   "outputs": [
    {
     "name": "stderr",
     "output_type": "stream",
     "text": [
      "20/05/11 12:40:08 INFO fs.TrashPolicyDefault: Moved: 'hdfs://nn01.itversity.com:8020/user/akashpatel/hdfscommandexercises/moveexample' to trash at: hdfs://nn01.itversity.com:8020/user/akashpatel/.Trash/Current/user/akashpatel/hdfscommandexercises/moveexample1589215208629\n"
     ]
    }
   ],
   "source": [
    "%%sh \n",
    "\n",
    "hdfs dfs -rm -r /user/akashpatel/hdfscommandexercises/moveexample"
   ]
  },
  {
   "cell_type": "code",
   "execution_count": 64,
   "metadata": {},
   "outputs": [
    {
     "name": "stdout",
     "output_type": "stream",
     "text": [
      "Found 3 items\n",
      "-rw-r--r--   2 akashpatel hdfs         92 2020-05-11 10:13 /user/akashpatel/hdfscommandexercises/MyAnotherTextFile.txt\n",
      "-rw-r--r--   2 akashpatel hdfs         54 2020-05-11 09:52 /user/akashpatel/hdfscommandexercises/MyTextFile.txt\n",
      "-rw-r--r--   2 akashpatel hdfs          0 2020-05-11 09:37 /user/akashpatel/hdfscommandexercises/myNewFile.txt\n"
     ]
    }
   ],
   "source": [
    "%%sh \n",
    "\n",
    "hdfs dfs -ls /user/akashpatel/hdfscommandexercises/"
   ]
  },
  {
   "cell_type": "markdown",
   "metadata": {},
   "source": [
    "### ds command - It used to get size of the files."
   ]
  },
  {
   "cell_type": "code",
   "execution_count": 66,
   "metadata": {},
   "outputs": [
    {
     "name": "stdout",
     "output_type": "stream",
     "text": [
      "92  /user/akashpatel/hdfscommandexercises/MyAnotherTextFile.txt\n",
      "54  /user/akashpatel/hdfscommandexercises/MyTextFile.txt\n",
      "0   /user/akashpatel/hdfscommandexercises/myNewFile.txt\n"
     ]
    }
   ],
   "source": [
    "%%sh \n",
    "\n",
    "hdfs dfs -du /user/akashpatel/hdfscommandexercises/"
   ]
  },
  {
   "cell_type": "markdown",
   "metadata": {},
   "source": [
    "### -du -s command : It used to get size of the entire directory."
   ]
  },
  {
   "cell_type": "code",
   "execution_count": 71,
   "metadata": {},
   "outputs": [
    {
     "name": "stdout",
     "output_type": "stream",
     "text": [
      "146  /user/akashpatel/hdfscommandexercises\n"
     ]
    }
   ],
   "source": [
    "%%sh \n",
    "\n",
    "hdfs dfs -du -s /user/akashpatel/hdfscommandexercises"
   ]
  },
  {
   "cell_type": "markdown",
   "metadata": {},
   "source": [
    "### stat command : It used to get modified date and time "
   ]
  },
  {
   "cell_type": "code",
   "execution_count": 72,
   "metadata": {},
   "outputs": [
    {
     "name": "stdout",
     "output_type": "stream",
     "text": [
      "2020-05-11 16:40:08\n"
     ]
    }
   ],
   "source": [
    "%%sh \n",
    "\n",
    "hdfs dfs -stat /user/akashpatel/hdfscommandexercises"
   ]
  },
  {
   "cell_type": "code",
   "execution_count": 76,
   "metadata": {},
   "outputs": [
    {
     "name": "stdout",
     "output_type": "stream",
     "text": [
      "Found 3 items\n",
      "-rw-r--r--   2 akashpatel hdfs         92 2020-05-11 10:13 /user/akashpatel/hdfscommandexercises/MyAnotherTextFile.txt\n",
      "-rw-r--r--   2 akashpatel hdfs         54 2020-05-11 09:52 /user/akashpatel/hdfscommandexercises/MyTextFile.txt\n",
      "-rw-r--r--   2 akashpatel hdfs          0 2020-05-11 09:37 /user/akashpatel/hdfscommandexercises/myNewFile.txt\n"
     ]
    }
   ],
   "source": [
    "%%sh \n",
    "\n",
    "hdfs dfs -ls /user/akashpatel/hdfscommandexercises"
   ]
  },
  {
   "cell_type": "markdown",
   "metadata": {},
   "source": [
    "### setrep command : This command is used to increase or decrease replication of the file or directory (By default it sets though core-site.xml) "
   ]
  },
  {
   "cell_type": "code",
   "execution_count": 78,
   "metadata": {},
   "outputs": [
    {
     "name": "stdout",
     "output_type": "stream",
     "text": [
      "Process is terminated.\n"
     ]
    }
   ],
   "source": [
    "%%sh \n",
    "\n",
    "hdfs dfs -setrep -R -w 6 /user/akashpatel/hdfscommandexercises/MyTextFile.txt"
   ]
  }
 ],
 "metadata": {
  "kernelspec": {
   "display_name": "Pyspark 2",
   "language": "python",
   "name": "pyspark2"
  },
  "language_info": {
   "codemirror_mode": {
    "name": "ipython",
    "version": 3
   },
   "file_extension": ".py",
   "mimetype": "text/x-python",
   "name": "python",
   "nbconvert_exporter": "python",
   "pygments_lexer": "ipython3",
   "version": "3.6.8"
  }
 },
 "nbformat": 4,
 "nbformat_minor": 4
}
